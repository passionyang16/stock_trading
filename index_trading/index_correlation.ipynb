{
 "cells": [
  {
   "cell_type": "code",
   "execution_count": 265,
   "metadata": {},
   "outputs": [],
   "source": [
    "import pandas as pd\n",
    "import glob\n",
    "import os\n",
    "import re\n",
    "import matplotlib.pyplot as plt\n",
    "import seaborn as sns\n",
    "import warnings\n",
    "warnings.filterwarnings(\"ignore\")"
   ]
  },
  {
   "cell_type": "code",
   "execution_count": 266,
   "metadata": {},
   "outputs": [],
   "source": [
    "input_file = r'index_data'\n",
    "output_file = r'result.csv'"
   ]
  },
  {
   "cell_type": "code",
   "execution_count": 267,
   "metadata": {},
   "outputs": [
    {
     "name": "stdout",
     "output_type": "stream",
     "text": [
      "['index_data/index_kosdaq.csv', 'index_data/index_wti.csv', 'index_data/index_snp.csv', 'index_data/index_csi.csv', 'index_data/index_treasury.csv', 'index_data/index_kospi.csv', 'index_data/index_fx.csv']\n"
     ]
    }
   ],
   "source": [
    "allFile_list = glob.glob(os.path.join(input_file,'index_*'))\n",
    "print(allFile_list)"
   ]
  },
  {
   "cell_type": "code",
   "execution_count": 268,
   "metadata": {},
   "outputs": [],
   "source": [
    "all_data = []\n",
    "index_names = ['kosdaq','wti','snp','csi','treasury','kospi','fx']\n",
    "for i in range(len(allFile_list)):\n",
    "    df = pd.read_csv(allFile_list[i],engine='python',encoding='utf-8')\n",
    "    df = df[['날짜','종가','오픈','고가','저가','변동 %']]\n",
    "    df.columns = ['date','{name}_end'.format(name=index_names[i]),'{name}_start'.format(name=index_names[i]),\n",
    "                 '{name}_high'.format(name=index_names[i]),'{name}_low'.format(name=index_names[i]),\n",
    "                 '{name}_change'.format(name=index_names[i])]\n",
    "    \n",
    "    all_data.append(df)"
   ]
  },
  {
   "cell_type": "code",
   "execution_count": 269,
   "metadata": {},
   "outputs": [],
   "source": [
    "df = pd.merge(all_data[0],all_data[1],on='date')\n",
    "for i in range(2,len(all_data)):\n",
    "    df = pd.merge(df,all_data[i],on='date')"
   ]
  },
  {
   "cell_type": "code",
   "execution_count": 270,
   "metadata": {},
   "outputs": [],
   "source": [
    "df = df.sort_values(by='date')\n",
    "df.reset_index(drop=True, inplace=True)"
   ]
  },
  {
   "cell_type": "code",
   "execution_count": 271,
   "metadata": {},
   "outputs": [],
   "source": [
    "df = df[479:]\n",
    "df.reset_index(drop=True, inplace=True)"
   ]
  },
  {
   "cell_type": "code",
   "execution_count": 288,
   "metadata": {},
   "outputs": [],
   "source": [
    "change_rate = df[['kospi_change','kosdaq_change','snp_change','csi_change','wti_change','fx_change','treasury_change']]"
   ]
  },
  {
   "cell_type": "code",
   "execution_count": 289,
   "metadata": {},
   "outputs": [
    {
     "data": {
      "text/html": [
       "<div>\n",
       "<style scoped>\n",
       "    .dataframe tbody tr th:only-of-type {\n",
       "        vertical-align: middle;\n",
       "    }\n",
       "\n",
       "    .dataframe tbody tr th {\n",
       "        vertical-align: top;\n",
       "    }\n",
       "\n",
       "    .dataframe thead th {\n",
       "        text-align: right;\n",
       "    }\n",
       "</style>\n",
       "<table border=\"1\" class=\"dataframe\">\n",
       "  <thead>\n",
       "    <tr style=\"text-align: right;\">\n",
       "      <th></th>\n",
       "      <th>kospi_change</th>\n",
       "      <th>kosdaq_change</th>\n",
       "      <th>snp_change</th>\n",
       "      <th>csi_change</th>\n",
       "      <th>wti_change</th>\n",
       "      <th>fx_change</th>\n",
       "      <th>treasury_change</th>\n",
       "    </tr>\n",
       "  </thead>\n",
       "  <tbody>\n",
       "    <tr>\n",
       "      <td>0</td>\n",
       "      <td>-4.06%</td>\n",
       "      <td>-3.72%</td>\n",
       "      <td>-3.92%</td>\n",
       "      <td>1.13%</td>\n",
       "      <td>-10.30%</td>\n",
       "      <td>2.43%</td>\n",
       "      <td>0.20%</td>\n",
       "    </tr>\n",
       "    <tr>\n",
       "      <td>1</td>\n",
       "      <td>0.99%</td>\n",
       "      <td>-0.56%</td>\n",
       "      <td>-2.27%</td>\n",
       "      <td>-1.04%</td>\n",
       "      <td>3.74%</td>\n",
       "      <td>-1.19%</td>\n",
       "      <td>-0.39%</td>\n",
       "    </tr>\n",
       "    <tr>\n",
       "      <td>2</td>\n",
       "      <td>3.31%</td>\n",
       "      <td>3.49%</td>\n",
       "      <td>2.76%</td>\n",
       "      <td>6.68%</td>\n",
       "      <td>8.96%</td>\n",
       "      <td>-0.04%</td>\n",
       "      <td>-0.98%</td>\n",
       "    </tr>\n",
       "    <tr>\n",
       "      <td>3</td>\n",
       "      <td>0.03%</td>\n",
       "      <td>0.63%</td>\n",
       "      <td>-3.18%</td>\n",
       "      <td>0.87%</td>\n",
       "      <td>-3.90%</td>\n",
       "      <td>1.08%</td>\n",
       "      <td>0.00%</td>\n",
       "    </tr>\n",
       "    <tr>\n",
       "      <td>4</td>\n",
       "      <td>-0.30%</td>\n",
       "      <td>0.83%</td>\n",
       "      <td>0.26%</td>\n",
       "      <td>-0.80%</td>\n",
       "      <td>4.38%</td>\n",
       "      <td>-1.40%</td>\n",
       "      <td>0.20%</td>\n",
       "    </tr>\n",
       "    <tr>\n",
       "      <td>...</td>\n",
       "      <td>...</td>\n",
       "      <td>...</td>\n",
       "      <td>...</td>\n",
       "      <td>...</td>\n",
       "      <td>...</td>\n",
       "      <td>...</td>\n",
       "      <td>...</td>\n",
       "    </tr>\n",
       "    <tr>\n",
       "      <td>1107</td>\n",
       "      <td>0.75%</td>\n",
       "      <td>0.25%</td>\n",
       "      <td>0.54%</td>\n",
       "      <td>0.28%</td>\n",
       "      <td>-0.41%</td>\n",
       "      <td>-0.12%</td>\n",
       "      <td>-1.10%</td>\n",
       "    </tr>\n",
       "    <tr>\n",
       "      <td>1108</td>\n",
       "      <td>0.13%</td>\n",
       "      <td>0.30%</td>\n",
       "      <td>0.34%</td>\n",
       "      <td>0.16%</td>\n",
       "      <td>0.31%</td>\n",
       "      <td>-0.03%</td>\n",
       "      <td>0.00%</td>\n",
       "    </tr>\n",
       "    <tr>\n",
       "      <td>1109</td>\n",
       "      <td>-0.16%</td>\n",
       "      <td>-0.45%</td>\n",
       "      <td>0.41%</td>\n",
       "      <td>-1.73%</td>\n",
       "      <td>0.33%</td>\n",
       "      <td>-0.09%</td>\n",
       "      <td>-0.28%</td>\n",
       "    </tr>\n",
       "    <tr>\n",
       "      <td>1110</td>\n",
       "      <td>0.06%</td>\n",
       "      <td>1.62%</td>\n",
       "      <td>0.00%</td>\n",
       "      <td>1.68%</td>\n",
       "      <td>0.77%</td>\n",
       "      <td>-0.43%</td>\n",
       "      <td>-0.84%</td>\n",
       "    </tr>\n",
       "    <tr>\n",
       "      <td>1111</td>\n",
       "      <td>0.35%</td>\n",
       "      <td>0.65%</td>\n",
       "      <td>-0.10%</td>\n",
       "      <td>-0.17%</td>\n",
       "      <td>-1.03%</td>\n",
       "      <td>0.10%</td>\n",
       "      <td>0.85%</td>\n",
       "    </tr>\n",
       "  </tbody>\n",
       "</table>\n",
       "<p>1112 rows × 7 columns</p>\n",
       "</div>"
      ],
      "text/plain": [
       "     kospi_change kosdaq_change snp_change csi_change wti_change fx_change  \\\n",
       "0          -4.06%        -3.72%     -3.92%      1.13%    -10.30%     2.43%   \n",
       "1           0.99%        -0.56%     -2.27%     -1.04%      3.74%    -1.19%   \n",
       "2           3.31%         3.49%      2.76%      6.68%      8.96%    -0.04%   \n",
       "3           0.03%         0.63%     -3.18%      0.87%     -3.90%     1.08%   \n",
       "4          -0.30%         0.83%      0.26%     -0.80%      4.38%    -1.40%   \n",
       "...           ...           ...        ...        ...        ...       ...   \n",
       "1107        0.75%         0.25%      0.54%      0.28%     -0.41%    -0.12%   \n",
       "1108        0.13%         0.30%      0.34%      0.16%      0.31%    -0.03%   \n",
       "1109       -0.16%        -0.45%      0.41%     -1.73%      0.33%    -0.09%   \n",
       "1110        0.06%         1.62%      0.00%      1.68%      0.77%    -0.43%   \n",
       "1111        0.35%         0.65%     -0.10%     -0.17%     -1.03%     0.10%   \n",
       "\n",
       "     treasury_change  \n",
       "0              0.20%  \n",
       "1             -0.39%  \n",
       "2             -0.98%  \n",
       "3              0.00%  \n",
       "4              0.20%  \n",
       "...              ...  \n",
       "1107          -1.10%  \n",
       "1108           0.00%  \n",
       "1109          -0.28%  \n",
       "1110          -0.84%  \n",
       "1111           0.85%  \n",
       "\n",
       "[1112 rows x 7 columns]"
      ]
     },
     "execution_count": 289,
     "metadata": {},
     "output_type": "execute_result"
    }
   ],
   "source": [
    "change_rate"
   ]
  },
  {
   "cell_type": "code",
   "execution_count": 290,
   "metadata": {},
   "outputs": [],
   "source": [
    "# #범주형 자료로 바꾸기\n",
    "# for j in change_rate:\n",
    "#     for i in range(len(change_rate['kospi_change'])):\n",
    "#         if len(change_rate[j][i]) == 6:\n",
    "#             change_rate[j][i] = 0\n",
    "#         else:\n",
    "#             change_rate[j][i] = 1\n",
    "\n",
    "# change_rate"
   ]
  },
  {
   "cell_type": "code",
   "execution_count": 291,
   "metadata": {},
   "outputs": [],
   "source": [
    "for i in change_rate:\n",
    "    change_rate[i] = list(map(lambda x: x[:-1], change_rate[i].values))\n",
    "    change_rate[i] = change_rate[i].astype(float)"
   ]
  },
  {
   "cell_type": "code",
   "execution_count": 292,
   "metadata": {},
   "outputs": [],
   "source": [
    "# #HeatMap\n",
    "# plt.subplots(figsize=(15,15))\n",
    "\n",
    "# ax = sns.heatmap(data=change_rate.corr(),annot=True,fmt='.2f')\n",
    "# buttom,top = ax.get_ylim()\n",
    "# ax.set_ylim(buttom+0.5,top-0.5)"
   ]
  },
  {
   "cell_type": "code",
   "execution_count": 293,
   "metadata": {},
   "outputs": [
    {
     "data": {
      "text/html": [
       "<div>\n",
       "<style scoped>\n",
       "    .dataframe tbody tr th:only-of-type {\n",
       "        vertical-align: middle;\n",
       "    }\n",
       "\n",
       "    .dataframe tbody tr th {\n",
       "        vertical-align: top;\n",
       "    }\n",
       "\n",
       "    .dataframe thead th {\n",
       "        text-align: right;\n",
       "    }\n",
       "</style>\n",
       "<table border=\"1\" class=\"dataframe\">\n",
       "  <thead>\n",
       "    <tr style=\"text-align: right;\">\n",
       "      <th></th>\n",
       "      <th>kospi_change</th>\n",
       "      <th>kosdaq_change</th>\n",
       "      <th>snp_change</th>\n",
       "      <th>csi_change</th>\n",
       "      <th>wti_change</th>\n",
       "      <th>fx_change</th>\n",
       "      <th>treasury_change</th>\n",
       "    </tr>\n",
       "  </thead>\n",
       "  <tbody>\n",
       "    <tr>\n",
       "      <td>kospi_change</td>\n",
       "      <td>1.000000</td>\n",
       "      <td>0.676441</td>\n",
       "      <td>0.259243</td>\n",
       "      <td>0.367623</td>\n",
       "      <td>0.221451</td>\n",
       "      <td>-0.529663</td>\n",
       "      <td>0.072916</td>\n",
       "    </tr>\n",
       "    <tr>\n",
       "      <td>kosdaq_change</td>\n",
       "      <td>0.676441</td>\n",
       "      <td>1.000000</td>\n",
       "      <td>0.179192</td>\n",
       "      <td>0.271339</td>\n",
       "      <td>0.159885</td>\n",
       "      <td>-0.403164</td>\n",
       "      <td>0.030619</td>\n",
       "    </tr>\n",
       "    <tr>\n",
       "      <td>snp_change</td>\n",
       "      <td>0.259243</td>\n",
       "      <td>0.179192</td>\n",
       "      <td>1.000000</td>\n",
       "      <td>0.148507</td>\n",
       "      <td>0.505772</td>\n",
       "      <td>-0.361237</td>\n",
       "      <td>-0.006563</td>\n",
       "    </tr>\n",
       "    <tr>\n",
       "      <td>csi_change</td>\n",
       "      <td>0.367623</td>\n",
       "      <td>0.271339</td>\n",
       "      <td>0.148507</td>\n",
       "      <td>1.000000</td>\n",
       "      <td>0.178617</td>\n",
       "      <td>-0.301212</td>\n",
       "      <td>0.023907</td>\n",
       "    </tr>\n",
       "    <tr>\n",
       "      <td>wti_change</td>\n",
       "      <td>0.221451</td>\n",
       "      <td>0.159885</td>\n",
       "      <td>0.505772</td>\n",
       "      <td>0.178617</td>\n",
       "      <td>1.000000</td>\n",
       "      <td>-0.298840</td>\n",
       "      <td>0.008431</td>\n",
       "    </tr>\n",
       "    <tr>\n",
       "      <td>fx_change</td>\n",
       "      <td>-0.529663</td>\n",
       "      <td>-0.403164</td>\n",
       "      <td>-0.361237</td>\n",
       "      <td>-0.301212</td>\n",
       "      <td>-0.298840</td>\n",
       "      <td>1.000000</td>\n",
       "      <td>-0.003169</td>\n",
       "    </tr>\n",
       "    <tr>\n",
       "      <td>treasury_change</td>\n",
       "      <td>0.072916</td>\n",
       "      <td>0.030619</td>\n",
       "      <td>-0.006563</td>\n",
       "      <td>0.023907</td>\n",
       "      <td>0.008431</td>\n",
       "      <td>-0.003169</td>\n",
       "      <td>1.000000</td>\n",
       "    </tr>\n",
       "  </tbody>\n",
       "</table>\n",
       "</div>"
      ],
      "text/plain": [
       "                 kospi_change  kosdaq_change  snp_change  csi_change  \\\n",
       "kospi_change         1.000000       0.676441    0.259243    0.367623   \n",
       "kosdaq_change        0.676441       1.000000    0.179192    0.271339   \n",
       "snp_change           0.259243       0.179192    1.000000    0.148507   \n",
       "csi_change           0.367623       0.271339    0.148507    1.000000   \n",
       "wti_change           0.221451       0.159885    0.505772    0.178617   \n",
       "fx_change           -0.529663      -0.403164   -0.361237   -0.301212   \n",
       "treasury_change      0.072916       0.030619   -0.006563    0.023907   \n",
       "\n",
       "                 wti_change  fx_change  treasury_change  \n",
       "kospi_change       0.221451  -0.529663         0.072916  \n",
       "kosdaq_change      0.159885  -0.403164         0.030619  \n",
       "snp_change         0.505772  -0.361237        -0.006563  \n",
       "csi_change         0.178617  -0.301212         0.023907  \n",
       "wti_change         1.000000  -0.298840         0.008431  \n",
       "fx_change         -0.298840   1.000000        -0.003169  \n",
       "treasury_change    0.008431  -0.003169         1.000000  "
      ]
     },
     "execution_count": 293,
     "metadata": {},
     "output_type": "execute_result"
    }
   ],
   "source": [
    "change_rate.corr()"
   ]
  },
  {
   "cell_type": "code",
   "execution_count": 294,
   "metadata": {},
   "outputs": [
    {
     "data": {
      "text/plain": [
       "0       0.99\n",
       "1       3.31\n",
       "2       0.03\n",
       "3      -0.30\n",
       "4       1.57\n",
       "        ... \n",
       "1106    0.75\n",
       "1107    0.13\n",
       "1108   -0.16\n",
       "1109    0.06\n",
       "1110    0.35\n",
       "Name: kospi_change, Length: 1111, dtype: float64"
      ]
     },
     "execution_count": 294,
     "metadata": {},
     "output_type": "execute_result"
    }
   ],
   "source": [
    "kospi_change = change_rate['kospi_change'][1:]\n",
    "kospi_change.reset_index(drop=True, inplace=True)\n",
    "kospi_change"
   ]
  },
  {
   "cell_type": "code",
   "execution_count": 295,
   "metadata": {},
   "outputs": [
    {
     "data": {
      "text/plain": [
       "0      -0.56\n",
       "1       3.49\n",
       "2       0.63\n",
       "3       0.83\n",
       "4       3.71\n",
       "        ... \n",
       "1106    0.25\n",
       "1107    0.30\n",
       "1108   -0.45\n",
       "1109    1.62\n",
       "1110    0.65\n",
       "Name: kosdaq_change, Length: 1111, dtype: float64"
      ]
     },
     "execution_count": 295,
     "metadata": {},
     "output_type": "execute_result"
    }
   ],
   "source": [
    "kosdaq_change = change_rate['kosdaq_change'][1:]\n",
    "kosdaq_change.reset_index(drop=True, inplace=True)\n",
    "kosdaq_change"
   ]
  },
  {
   "cell_type": "code",
   "execution_count": 296,
   "metadata": {},
   "outputs": [
    {
     "data": {
      "text/plain": [
       "0      -3.92\n",
       "1      -2.27\n",
       "2       2.76\n",
       "3      -3.18\n",
       "4       0.26\n",
       "        ... \n",
       "1106    0.24\n",
       "1107    0.54\n",
       "1108    0.34\n",
       "1109    0.41\n",
       "1110    0.00\n",
       "Name: snp_change, Length: 1111, dtype: float64"
      ]
     },
     "execution_count": 296,
     "metadata": {},
     "output_type": "execute_result"
    }
   ],
   "source": [
    "snp_change = change_rate['snp_change'][:1111]\n",
    "snp_change.reset_index(drop=True, inplace=True)\n",
    "snp_change"
   ]
  },
  {
   "cell_type": "code",
   "execution_count": 297,
   "metadata": {},
   "outputs": [
    {
     "data": {
      "text/plain": [
       "0      -1.04\n",
       "1       6.68\n",
       "2       0.87\n",
       "3      -0.80\n",
       "4      -3.68\n",
       "        ... \n",
       "1106    0.28\n",
       "1107    0.16\n",
       "1108   -1.73\n",
       "1109    1.68\n",
       "1110   -0.17\n",
       "Name: csi_change, Length: 1111, dtype: float64"
      ]
     },
     "execution_count": 297,
     "metadata": {},
     "output_type": "execute_result"
    }
   ],
   "source": [
    "csi_change = change_rate['csi_change'][1:]\n",
    "csi_change.reset_index(drop=True, inplace=True)\n",
    "csi_change"
   ]
  },
  {
   "cell_type": "code",
   "execution_count": 298,
   "metadata": {},
   "outputs": [
    {
     "data": {
      "text/html": [
       "<div>\n",
       "<style scoped>\n",
       "    .dataframe tbody tr th:only-of-type {\n",
       "        vertical-align: middle;\n",
       "    }\n",
       "\n",
       "    .dataframe tbody tr th {\n",
       "        vertical-align: top;\n",
       "    }\n",
       "\n",
       "    .dataframe thead th {\n",
       "        text-align: right;\n",
       "    }\n",
       "</style>\n",
       "<table border=\"1\" class=\"dataframe\">\n",
       "  <thead>\n",
       "    <tr style=\"text-align: right;\">\n",
       "      <th></th>\n",
       "      <th>kospi_change</th>\n",
       "      <th>kosdaq_change</th>\n",
       "      <th>snp_change</th>\n",
       "      <th>csi_change</th>\n",
       "    </tr>\n",
       "  </thead>\n",
       "  <tbody>\n",
       "    <tr>\n",
       "      <td>kospi_change</td>\n",
       "      <td>1.000000</td>\n",
       "      <td>0.673718</td>\n",
       "      <td>0.395985</td>\n",
       "      <td>0.371729</td>\n",
       "    </tr>\n",
       "    <tr>\n",
       "      <td>kosdaq_change</td>\n",
       "      <td>0.673718</td>\n",
       "      <td>1.000000</td>\n",
       "      <td>0.283667</td>\n",
       "      <td>0.274313</td>\n",
       "    </tr>\n",
       "    <tr>\n",
       "      <td>snp_change</td>\n",
       "      <td>0.395985</td>\n",
       "      <td>0.283667</td>\n",
       "      <td>1.000000</td>\n",
       "      <td>0.135514</td>\n",
       "    </tr>\n",
       "    <tr>\n",
       "      <td>csi_change</td>\n",
       "      <td>0.371729</td>\n",
       "      <td>0.274313</td>\n",
       "      <td>0.135514</td>\n",
       "      <td>1.000000</td>\n",
       "    </tr>\n",
       "  </tbody>\n",
       "</table>\n",
       "</div>"
      ],
      "text/plain": [
       "               kospi_change  kosdaq_change  snp_change  csi_change\n",
       "kospi_change       1.000000       0.673718    0.395985    0.371729\n",
       "kosdaq_change      0.673718       1.000000    0.283667    0.274313\n",
       "snp_change         0.395985       0.283667    1.000000    0.135514\n",
       "csi_change         0.371729       0.274313    0.135514    1.000000"
      ]
     },
     "execution_count": 298,
     "metadata": {},
     "output_type": "execute_result"
    }
   ],
   "source": [
    "new = pd.concat([kospi_change,kosdaq_change,snp_change,csi_change],axis=1)\n",
    "new.corr()"
   ]
  },
  {
   "cell_type": "code",
   "execution_count": 299,
   "metadata": {},
   "outputs": [],
   "source": [
    "all_data = []\n",
    "index_names = ['kosdaq','wti','snp','csi','treasury','kospi','fx']\n",
    "for i in range(len(allFile_list)):\n",
    "    df = pd.read_csv(allFile_list[i],engine='python',encoding='utf-8')\n",
    "    df = df[['날짜','종가','오픈','고가','저가','변동 %']]\n",
    "    df.columns = ['date','{name}_end'.format(name=index_names[i]),'{name}_start'.format(name=index_names[i]),\n",
    "                 '{name}_high'.format(name=index_names[i]),'{name}_low'.format(name=index_names[i]),\n",
    "                 '{name}_change'.format(name=index_names[i])]\n",
    "    \n",
    "    all_data.append(df)"
   ]
  },
  {
   "cell_type": "code",
   "execution_count": 300,
   "metadata": {},
   "outputs": [],
   "source": [
    "df = pd.merge(all_data[0],all_data[1],on='date')\n",
    "for i in range(2,len(all_data)):\n",
    "    df = pd.merge(df,all_data[i],on='date')"
   ]
  },
  {
   "cell_type": "code",
   "execution_count": 301,
   "metadata": {},
   "outputs": [],
   "source": [
    "df = df.sort_values(by='date')\n",
    "df.reset_index(drop=True, inplace=True)"
   ]
  },
  {
   "cell_type": "code",
   "execution_count": 306,
   "metadata": {},
   "outputs": [],
   "source": [
    "df = df[599:]\n",
    "df.reset_index(drop=True, inplace=True)"
   ]
  },
  {
   "cell_type": "code",
   "execution_count": 307,
   "metadata": {},
   "outputs": [],
   "source": [
    "change_rate = df[['kospi_change','kosdaq_change','snp_change','csi_change','wti_change','fx_change','treasury_change']]"
   ]
  },
  {
   "cell_type": "code",
   "execution_count": 308,
   "metadata": {},
   "outputs": [
    {
     "data": {
      "text/html": [
       "<div>\n",
       "<style scoped>\n",
       "    .dataframe tbody tr th:only-of-type {\n",
       "        vertical-align: middle;\n",
       "    }\n",
       "\n",
       "    .dataframe tbody tr th {\n",
       "        vertical-align: top;\n",
       "    }\n",
       "\n",
       "    .dataframe thead th {\n",
       "        text-align: right;\n",
       "    }\n",
       "</style>\n",
       "<table border=\"1\" class=\"dataframe\">\n",
       "  <thead>\n",
       "    <tr style=\"text-align: right;\">\n",
       "      <th></th>\n",
       "      <th>kospi_change</th>\n",
       "      <th>kosdaq_change</th>\n",
       "      <th>snp_change</th>\n",
       "      <th>csi_change</th>\n",
       "      <th>wti_change</th>\n",
       "      <th>fx_change</th>\n",
       "      <th>treasury_change</th>\n",
       "    </tr>\n",
       "  </thead>\n",
       "  <tbody>\n",
       "    <tr>\n",
       "      <td>0</td>\n",
       "      <td>2.15%</td>\n",
       "      <td>0.31%</td>\n",
       "      <td>-2.28%</td>\n",
       "      <td>0.47%</td>\n",
       "      <td>-2.73%</td>\n",
       "      <td>-0.16%</td>\n",
       "      <td>-0.91%</td>\n",
       "    </tr>\n",
       "    <tr>\n",
       "      <td>1</td>\n",
       "      <td>-0.65%</td>\n",
       "      <td>0.28%</td>\n",
       "      <td>-0.23%</td>\n",
       "      <td>1.66%</td>\n",
       "      <td>0.00%</td>\n",
       "      <td>-0.22%</td>\n",
       "      <td>-0.74%</td>\n",
       "    </tr>\n",
       "    <tr>\n",
       "      <td>2</td>\n",
       "      <td>0.04%</td>\n",
       "      <td>-0.15%</td>\n",
       "      <td>0.75%</td>\n",
       "      <td>5.57%</td>\n",
       "      <td>-0.13%</td>\n",
       "      <td>0.06%</td>\n",
       "      <td>-1.12%</td>\n",
       "    </tr>\n",
       "    <tr>\n",
       "      <td>3</td>\n",
       "      <td>-0.38%</td>\n",
       "      <td>0.36%</td>\n",
       "      <td>1.22%</td>\n",
       "      <td>0.83%</td>\n",
       "      <td>0.09%</td>\n",
       "      <td>-0.68%</td>\n",
       "      <td>0.00%</td>\n",
       "    </tr>\n",
       "    <tr>\n",
       "      <td>4</td>\n",
       "      <td>0.80%</td>\n",
       "      <td>0.24%</td>\n",
       "      <td>1.08%</td>\n",
       "      <td>2.15%</td>\n",
       "      <td>4.53%</td>\n",
       "      <td>-0.76%</td>\n",
       "      <td>0.00%</td>\n",
       "    </tr>\n",
       "    <tr>\n",
       "      <td>...</td>\n",
       "      <td>...</td>\n",
       "      <td>...</td>\n",
       "      <td>...</td>\n",
       "      <td>...</td>\n",
       "      <td>...</td>\n",
       "      <td>...</td>\n",
       "      <td>...</td>\n",
       "    </tr>\n",
       "    <tr>\n",
       "      <td>987</td>\n",
       "      <td>0.75%</td>\n",
       "      <td>0.25%</td>\n",
       "      <td>0.54%</td>\n",
       "      <td>0.28%</td>\n",
       "      <td>-0.41%</td>\n",
       "      <td>-0.12%</td>\n",
       "      <td>-1.10%</td>\n",
       "    </tr>\n",
       "    <tr>\n",
       "      <td>988</td>\n",
       "      <td>0.13%</td>\n",
       "      <td>0.30%</td>\n",
       "      <td>0.34%</td>\n",
       "      <td>0.16%</td>\n",
       "      <td>0.31%</td>\n",
       "      <td>-0.03%</td>\n",
       "      <td>0.00%</td>\n",
       "    </tr>\n",
       "    <tr>\n",
       "      <td>989</td>\n",
       "      <td>-0.16%</td>\n",
       "      <td>-0.45%</td>\n",
       "      <td>0.41%</td>\n",
       "      <td>-1.73%</td>\n",
       "      <td>0.33%</td>\n",
       "      <td>-0.09%</td>\n",
       "      <td>-0.28%</td>\n",
       "    </tr>\n",
       "    <tr>\n",
       "      <td>990</td>\n",
       "      <td>0.06%</td>\n",
       "      <td>1.62%</td>\n",
       "      <td>0.00%</td>\n",
       "      <td>1.68%</td>\n",
       "      <td>0.77%</td>\n",
       "      <td>-0.43%</td>\n",
       "      <td>-0.84%</td>\n",
       "    </tr>\n",
       "    <tr>\n",
       "      <td>991</td>\n",
       "      <td>0.35%</td>\n",
       "      <td>0.65%</td>\n",
       "      <td>-0.10%</td>\n",
       "      <td>-0.17%</td>\n",
       "      <td>-1.03%</td>\n",
       "      <td>0.10%</td>\n",
       "      <td>0.85%</td>\n",
       "    </tr>\n",
       "  </tbody>\n",
       "</table>\n",
       "<p>992 rows × 7 columns</p>\n",
       "</div>"
      ],
      "text/plain": [
       "    kospi_change kosdaq_change snp_change csi_change wti_change fx_change  \\\n",
       "0          2.15%         0.31%     -2.28%      0.47%     -2.73%    -0.16%   \n",
       "1         -0.65%         0.28%     -0.23%      1.66%      0.00%    -0.22%   \n",
       "2          0.04%        -0.15%      0.75%      5.57%     -0.13%     0.06%   \n",
       "3         -0.38%         0.36%      1.22%      0.83%      0.09%    -0.68%   \n",
       "4          0.80%         0.24%      1.08%      2.15%      4.53%    -0.76%   \n",
       "..           ...           ...        ...        ...        ...       ...   \n",
       "987        0.75%         0.25%      0.54%      0.28%     -0.41%    -0.12%   \n",
       "988        0.13%         0.30%      0.34%      0.16%      0.31%    -0.03%   \n",
       "989       -0.16%        -0.45%      0.41%     -1.73%      0.33%    -0.09%   \n",
       "990        0.06%         1.62%      0.00%      1.68%      0.77%    -0.43%   \n",
       "991        0.35%         0.65%     -0.10%     -0.17%     -1.03%     0.10%   \n",
       "\n",
       "    treasury_change  \n",
       "0            -0.91%  \n",
       "1            -0.74%  \n",
       "2            -1.12%  \n",
       "3             0.00%  \n",
       "4             0.00%  \n",
       "..              ...  \n",
       "987          -1.10%  \n",
       "988           0.00%  \n",
       "989          -0.28%  \n",
       "990          -0.84%  \n",
       "991           0.85%  \n",
       "\n",
       "[992 rows x 7 columns]"
      ]
     },
     "execution_count": 308,
     "metadata": {},
     "output_type": "execute_result"
    }
   ],
   "source": [
    "change_rate"
   ]
  },
  {
   "cell_type": "code",
   "execution_count": 309,
   "metadata": {},
   "outputs": [],
   "source": [
    "for i in change_rate:\n",
    "    change_rate[i] = list(map(lambda x: x[:-1], change_rate[i].values))\n",
    "    change_rate[i] = change_rate[i].astype(float)"
   ]
  },
  {
   "cell_type": "code",
   "execution_count": 310,
   "metadata": {},
   "outputs": [
    {
     "data": {
      "text/html": [
       "<div>\n",
       "<style scoped>\n",
       "    .dataframe tbody tr th:only-of-type {\n",
       "        vertical-align: middle;\n",
       "    }\n",
       "\n",
       "    .dataframe tbody tr th {\n",
       "        vertical-align: top;\n",
       "    }\n",
       "\n",
       "    .dataframe thead th {\n",
       "        text-align: right;\n",
       "    }\n",
       "</style>\n",
       "<table border=\"1\" class=\"dataframe\">\n",
       "  <thead>\n",
       "    <tr style=\"text-align: right;\">\n",
       "      <th></th>\n",
       "      <th>kospi_change</th>\n",
       "      <th>kosdaq_change</th>\n",
       "      <th>snp_change</th>\n",
       "      <th>csi_change</th>\n",
       "      <th>wti_change</th>\n",
       "      <th>fx_change</th>\n",
       "      <th>treasury_change</th>\n",
       "    </tr>\n",
       "  </thead>\n",
       "  <tbody>\n",
       "    <tr>\n",
       "      <td>kospi_change</td>\n",
       "      <td>1.000000</td>\n",
       "      <td>0.667791</td>\n",
       "      <td>0.231712</td>\n",
       "      <td>0.367148</td>\n",
       "      <td>0.214482</td>\n",
       "      <td>-0.512440</td>\n",
       "      <td>0.070517</td>\n",
       "    </tr>\n",
       "    <tr>\n",
       "      <td>kosdaq_change</td>\n",
       "      <td>0.667791</td>\n",
       "      <td>1.000000</td>\n",
       "      <td>0.165152</td>\n",
       "      <td>0.283290</td>\n",
       "      <td>0.157262</td>\n",
       "      <td>-0.410174</td>\n",
       "      <td>0.023235</td>\n",
       "    </tr>\n",
       "    <tr>\n",
       "      <td>snp_change</td>\n",
       "      <td>0.231712</td>\n",
       "      <td>0.165152</td>\n",
       "      <td>1.000000</td>\n",
       "      <td>0.116389</td>\n",
       "      <td>0.491373</td>\n",
       "      <td>-0.350395</td>\n",
       "      <td>-0.004819</td>\n",
       "    </tr>\n",
       "    <tr>\n",
       "      <td>csi_change</td>\n",
       "      <td>0.367148</td>\n",
       "      <td>0.283290</td>\n",
       "      <td>0.116389</td>\n",
       "      <td>1.000000</td>\n",
       "      <td>0.170635</td>\n",
       "      <td>-0.309563</td>\n",
       "      <td>0.028878</td>\n",
       "    </tr>\n",
       "    <tr>\n",
       "      <td>wti_change</td>\n",
       "      <td>0.214482</td>\n",
       "      <td>0.157262</td>\n",
       "      <td>0.491373</td>\n",
       "      <td>0.170635</td>\n",
       "      <td>1.000000</td>\n",
       "      <td>-0.295121</td>\n",
       "      <td>0.012268</td>\n",
       "    </tr>\n",
       "    <tr>\n",
       "      <td>fx_change</td>\n",
       "      <td>-0.512440</td>\n",
       "      <td>-0.410174</td>\n",
       "      <td>-0.350395</td>\n",
       "      <td>-0.309563</td>\n",
       "      <td>-0.295121</td>\n",
       "      <td>1.000000</td>\n",
       "      <td>0.006739</td>\n",
       "    </tr>\n",
       "    <tr>\n",
       "      <td>treasury_change</td>\n",
       "      <td>0.070517</td>\n",
       "      <td>0.023235</td>\n",
       "      <td>-0.004819</td>\n",
       "      <td>0.028878</td>\n",
       "      <td>0.012268</td>\n",
       "      <td>0.006739</td>\n",
       "      <td>1.000000</td>\n",
       "    </tr>\n",
       "  </tbody>\n",
       "</table>\n",
       "</div>"
      ],
      "text/plain": [
       "                 kospi_change  kosdaq_change  snp_change  csi_change  \\\n",
       "kospi_change         1.000000       0.667791    0.231712    0.367148   \n",
       "kosdaq_change        0.667791       1.000000    0.165152    0.283290   \n",
       "snp_change           0.231712       0.165152    1.000000    0.116389   \n",
       "csi_change           0.367148       0.283290    0.116389    1.000000   \n",
       "wti_change           0.214482       0.157262    0.491373    0.170635   \n",
       "fx_change           -0.512440      -0.410174   -0.350395   -0.309563   \n",
       "treasury_change      0.070517       0.023235   -0.004819    0.028878   \n",
       "\n",
       "                 wti_change  fx_change  treasury_change  \n",
       "kospi_change       0.214482  -0.512440         0.070517  \n",
       "kosdaq_change      0.157262  -0.410174         0.023235  \n",
       "snp_change         0.491373  -0.350395        -0.004819  \n",
       "csi_change         0.170635  -0.309563         0.028878  \n",
       "wti_change         1.000000  -0.295121         0.012268  \n",
       "fx_change         -0.295121   1.000000         0.006739  \n",
       "treasury_change    0.012268   0.006739         1.000000  "
      ]
     },
     "execution_count": 310,
     "metadata": {},
     "output_type": "execute_result"
    }
   ],
   "source": [
    "change_rate.corr()"
   ]
  },
  {
   "cell_type": "code",
   "execution_count": 311,
   "metadata": {},
   "outputs": [
    {
     "data": {
      "text/plain": [
       "0     -0.65\n",
       "1      0.04\n",
       "2     -0.38\n",
       "3      0.80\n",
       "4     -0.62\n",
       "       ... \n",
       "986    0.75\n",
       "987    0.13\n",
       "988   -0.16\n",
       "989    0.06\n",
       "990    0.35\n",
       "Name: kospi_change, Length: 991, dtype: float64"
      ]
     },
     "execution_count": 311,
     "metadata": {},
     "output_type": "execute_result"
    }
   ],
   "source": [
    "kospi_change = change_rate['kospi_change'][1:]\n",
    "kospi_change.reset_index(drop=True, inplace=True)\n",
    "kospi_change"
   ]
  },
  {
   "cell_type": "code",
   "execution_count": 312,
   "metadata": {},
   "outputs": [
    {
     "data": {
      "text/plain": [
       "0      0.28\n",
       "1     -0.15\n",
       "2      0.36\n",
       "3      0.24\n",
       "4     -1.26\n",
       "       ... \n",
       "986    0.25\n",
       "987    0.30\n",
       "988   -0.45\n",
       "989    1.62\n",
       "990    0.65\n",
       "Name: kosdaq_change, Length: 991, dtype: float64"
      ]
     },
     "execution_count": 312,
     "metadata": {},
     "output_type": "execute_result"
    }
   ],
   "source": [
    "kosdaq_change = change_rate['kosdaq_change'][1:]\n",
    "kosdaq_change.reset_index(drop=True, inplace=True)\n",
    "kosdaq_change"
   ]
  },
  {
   "cell_type": "code",
   "execution_count": 313,
   "metadata": {},
   "outputs": [
    {
     "data": {
      "text/plain": [
       "0      1.66\n",
       "1      5.57\n",
       "2      0.83\n",
       "3      2.15\n",
       "4      0.75\n",
       "       ... \n",
       "986    0.28\n",
       "987    0.16\n",
       "988   -1.73\n",
       "989    1.68\n",
       "990   -0.17\n",
       "Name: csi_change, Length: 991, dtype: float64"
      ]
     },
     "execution_count": 313,
     "metadata": {},
     "output_type": "execute_result"
    }
   ],
   "source": [
    "csi_change = change_rate['csi_change'][1:]\n",
    "csi_change.reset_index(drop=True, inplace=True)\n",
    "csi_change"
   ]
  },
  {
   "cell_type": "code",
   "execution_count": 314,
   "metadata": {},
   "outputs": [
    {
     "data": {
      "text/plain": [
       "0     -2.28\n",
       "1     -0.23\n",
       "2      0.75\n",
       "3      1.22\n",
       "4      1.08\n",
       "       ... \n",
       "986    0.24\n",
       "987    0.54\n",
       "988    0.34\n",
       "989    0.41\n",
       "990    0.00\n",
       "Name: snp_change, Length: 991, dtype: float64"
      ]
     },
     "execution_count": 314,
     "metadata": {},
     "output_type": "execute_result"
    }
   ],
   "source": [
    "snp_change = change_rate['snp_change'][:991]\n",
    "snp_change.reset_index(drop=True, inplace=True)\n",
    "snp_change"
   ]
  },
  {
   "cell_type": "code",
   "execution_count": 315,
   "metadata": {},
   "outputs": [
    {
     "data": {
      "text/html": [
       "<div>\n",
       "<style scoped>\n",
       "    .dataframe tbody tr th:only-of-type {\n",
       "        vertical-align: middle;\n",
       "    }\n",
       "\n",
       "    .dataframe tbody tr th {\n",
       "        vertical-align: top;\n",
       "    }\n",
       "\n",
       "    .dataframe thead th {\n",
       "        text-align: right;\n",
       "    }\n",
       "</style>\n",
       "<table border=\"1\" class=\"dataframe\">\n",
       "  <thead>\n",
       "    <tr style=\"text-align: right;\">\n",
       "      <th></th>\n",
       "      <th>kospi_change</th>\n",
       "      <th>kosdaq_change</th>\n",
       "      <th>snp_change</th>\n",
       "      <th>csi_change</th>\n",
       "    </tr>\n",
       "  </thead>\n",
       "  <tbody>\n",
       "    <tr>\n",
       "      <td>kospi_change</td>\n",
       "      <td>1.000000</td>\n",
       "      <td>0.668423</td>\n",
       "      <td>0.428922</td>\n",
       "      <td>0.367144</td>\n",
       "    </tr>\n",
       "    <tr>\n",
       "      <td>kosdaq_change</td>\n",
       "      <td>0.668423</td>\n",
       "      <td>1.000000</td>\n",
       "      <td>0.313850</td>\n",
       "      <td>0.283231</td>\n",
       "    </tr>\n",
       "    <tr>\n",
       "      <td>snp_change</td>\n",
       "      <td>0.428922</td>\n",
       "      <td>0.313850</td>\n",
       "      <td>1.000000</td>\n",
       "      <td>0.166280</td>\n",
       "    </tr>\n",
       "    <tr>\n",
       "      <td>csi_change</td>\n",
       "      <td>0.367144</td>\n",
       "      <td>0.283231</td>\n",
       "      <td>0.166280</td>\n",
       "      <td>1.000000</td>\n",
       "    </tr>\n",
       "  </tbody>\n",
       "</table>\n",
       "</div>"
      ],
      "text/plain": [
       "               kospi_change  kosdaq_change  snp_change  csi_change\n",
       "kospi_change       1.000000       0.668423    0.428922    0.367144\n",
       "kosdaq_change      0.668423       1.000000    0.313850    0.283231\n",
       "snp_change         0.428922       0.313850    1.000000    0.166280\n",
       "csi_change         0.367144       0.283231    0.166280    1.000000"
      ]
     },
     "execution_count": 315,
     "metadata": {},
     "output_type": "execute_result"
    }
   ],
   "source": [
    "new = pd.concat([kospi_change,kosdaq_change,snp_change,csi_change],axis=1)\n",
    "new.corr()"
   ]
  },
  {
   "cell_type": "code",
   "execution_count": null,
   "metadata": {},
   "outputs": [],
   "source": []
  }
 ],
 "metadata": {
  "kernelspec": {
   "display_name": "Python 3",
   "language": "python",
   "name": "python3"
  },
  "language_info": {
   "codemirror_mode": {
    "name": "ipython",
    "version": 3
   },
   "file_extension": ".py",
   "mimetype": "text/x-python",
   "name": "python",
   "nbconvert_exporter": "python",
   "pygments_lexer": "ipython3",
   "version": "3.7.4"
  }
 },
 "nbformat": 4,
 "nbformat_minor": 2
}
