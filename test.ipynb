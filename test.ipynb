{
 "metadata": {
  "language_info": {
   "codemirror_mode": {
    "name": "ipython",
    "version": 3
   },
   "file_extension": ".py",
   "mimetype": "text/x-python",
   "name": "python",
   "nbconvert_exporter": "python",
   "pygments_lexer": "ipython3",
   "version": "3.7.4-final"
  },
  "orig_nbformat": 2,
  "kernelspec": {
   "name": "Python 3.7.4 64-bit ('base': conda)",
   "display_name": "Python 3.7.4 64-bit ('base': conda)",
   "metadata": {
    "interpreter": {
     "hash": "bf5730675a6facd7663b451a1f42d5359af38cbd95c11bc438bf99c911402be2"
    }
   }
  }
 },
 "nbformat": 4,
 "nbformat_minor": 2,
 "cells": [
  {
   "cell_type": "code",
   "execution_count": 2,
   "metadata": {},
   "outputs": [],
   "source": [
    "import pandas as pd\n",
    "from tqdm import tqdm\n",
    "import ast\n"
   ]
  },
  {
   "cell_type": "code",
   "execution_count": 3,
   "metadata": {},
   "outputs": [
    {
     "output_type": "execute_result",
     "data": {
      "text/plain": "'c:\\\\Users\\\\passi\\\\Desktop\\\\programming\\\\stair_to_heaven'"
     },
     "metadata": {},
     "execution_count": 3
    }
   ],
   "source": [
    "import os\n",
    "os.getcwd()"
   ]
  },
  {
   "cell_type": "code",
   "execution_count": 4,
   "metadata": {},
   "outputs": [],
   "source": [
    "import pandas as pd\n",
    "from tqdm import tqdm\n",
    "import ast\n",
    "\n",
    "PATH = '/Users/jungyulyang/programming/stair_to_heaven/'\n",
    "\n",
    "# 저장된 파일을 불러서 코스피, 코스닥 종목들의 코드와 이름을 변수에 저장\n",
    "df = pd.read_csv(PATH + \"catch_highest/data/extracted_data/kospi_kosdaq_list.csv\")\n",
    "df = df.loc[:, ~df.columns.str.contains('^Unnamed')]\n",
    "\n",
    "#na 값들은 제거하고 list 형태로 변환, 해당 변수에 저장\n",
    "kospicode = df['kospicode'].dropna().tolist()\n",
    "kospiname = df['kospiname'].dropna().tolist()\n",
    "kospicode_entire = df['kospicode_entire'].dropna().tolist()\n",
    "kospiname_entire = df['kospiname_entire'].dropna().tolist()\n",
    "kosdaqcode = df['kosdaqcode'].dropna().tolist()\n",
    "kosdaqname = df['kosdaqname'].dropna().tolist()\n",
    "\n",
    "#혹시 몰라 float를 int로 변경\n",
    "kospicode = list(map(int, kospicode))\n",
    "kosdaqcode = list(map(int, kosdaqcode))\n",
    "\n",
    "\n",
    "# 상따 목록 불러오기\n",
    "df2 = pd.read_csv(PATH + \"catch_highest/data/extracted_data/test_date_company_list.csv\")\n",
    "df2 = df2.loc[:, ~df2.columns.str.contains('^Unnamed')]\n",
    "\n",
    "for i in range(df2.shape[0]):\n",
    "    df2['상한가'][i] = ast.literal_eval(df2['상한가'][i])\n",
    "\n",
    "df2 = df2[['내일날짜', '상한가']]\n",
    "df2.columns = ['상한가다음날', '상한가종목']\n",
    "\n",
    "#딕셔너리 형태로 저장\n",
    "SD_kospi={}\n",
    "for i in range(len(df2)):\n",
    "    SD_kospi[df2['상한가다음날'][i]]=df2['상한가종목'][i]\n",
    "\n",
    "stock_list_name = []\n",
    "stock_list_date = []\n",
    "for i in SD_kospi.keys():\n",
    "    stock_list_date.append(i)\n",
    "for j in SD_kospi.values():\n",
    "    stock_list_name.append(j)"
   ]
  },
  {
   "cell_type": "code",
   "execution_count": 5,
   "metadata": {},
   "outputs": [
    {
     "output_type": "execute_result",
     "data": {
      "text/plain": "[20200901, 20200902, 20200903, 20200904, 20200907, 20200908, 20200909, 0]"
     },
     "metadata": {},
     "execution_count": 5
    }
   ],
   "source": [
    "stock_list_date"
   ]
  },
  {
   "cell_type": "code",
   "execution_count": null,
   "metadata": {},
   "outputs": [],
   "source": []
  }
 ]
}