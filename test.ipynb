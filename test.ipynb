{
 "metadata": {
  "language_info": {
   "codemirror_mode": {
    "name": "ipython",
    "version": 3
   },
   "file_extension": ".py",
   "mimetype": "text/x-python",
   "name": "python",
   "nbconvert_exporter": "python",
   "pygments_lexer": "ipython3",
   "version": "3.5.6-final"
  },
  "orig_nbformat": 2,
  "kernelspec": {
   "name": "Python 3.5.6 32-bit ('trading': conda)",
   "display_name": "Python 3.5.6 32-bit ('trading': conda)",
   "metadata": {
    "interpreter": {
     "hash": "b90e3d0702662d39dfdc789f3e3d6092e6cd61497fd65a4478a4001d303de314"
    }
   }
  }
 },
 "nbformat": 4,
 "nbformat_minor": 2,
 "cells": [
  {
   "cell_type": "code",
   "execution_count": 1,
   "metadata": {
    "tags": []
   },
   "outputs": [],
   "source": [
    "import win32com.client\n",
    "import pandas as pd\n",
    "from tqdm import tqdm\n",
    "import time"
   ]
  },
  {
   "cell_type": "code",
   "execution_count": 16,
   "metadata": {},
   "outputs": [],
   "source": [
    "def get_all_codes():\n",
    "    # 저장된 파일을 불러서 코스피, 코스닥 종목들의 코드와 이름을 변수에 저장\n",
    "    df = pd.read_csv(PATH + \"catch_highest/data/extracted_data/kospi_kosdaq_list.csv\")\n",
    "    df = df.loc[:, ~df.columns.str.contains('^Unnamed')]\n",
    "\n",
    "    #na 값들은 제거하고 list 형태로 변환, 해당 변수에 저장\n",
    "    kospicode = list(map(str,df['kospicode_entire'].dropna().tolist()))\n",
    "    kosdaqcode = list(map(str,(map(int,df['kosdaqcode'].dropna().tolist()))))\n",
    "\n",
    "    for i in range(len(kosdaqcode)):\n",
    "        if len(kosdaqcode[i]) != 6:\n",
    "            kosdaqcode[i] = kosdaqcode[i].zfill(6)\n",
    "        \n",
    "        kosdaqcode[i] = 'A' + kosdaqcode[i]\n",
    "\n",
    "    # 코스피 코스닥 합치기\n",
    "    integrated_code = kospicode+kosdaqcode\n",
    "\n",
    "    return integrated_code"
   ]
  },
  {
   "cell_type": "code",
   "execution_count": 17,
   "metadata": {},
   "outputs": [],
   "source": [
    "PATH = 'c:\\\\Users\\\\passi\\\\Desktop\\\\programming\\\\stair_to_heaven\\\\'\n",
    "\n",
    "code = get_all_codes()"
   ]
  },
  {
   "cell_type": "code",
   "execution_count": 13,
   "metadata": {},
   "outputs": [
    {
     "output_type": "execute_result",
     "data": {
      "text/plain": [
       "'A238490.0'"
      ]
     },
     "metadata": {},
     "execution_count": 13
    }
   ],
   "source": [
    "code[]"
   ]
  },
  {
   "cell_type": "code",
   "execution_count": null,
   "metadata": {},
   "outputs": [],
   "source": []
  }
 ]
}