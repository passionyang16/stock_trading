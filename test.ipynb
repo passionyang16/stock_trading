{
 "metadata": {
  "language_info": {
   "codemirror_mode": {
    "name": "ipython",
    "version": 3
   },
   "file_extension": ".py",
   "mimetype": "text/x-python",
   "name": "python",
   "nbconvert_exporter": "python",
   "pygments_lexer": "ipython3",
   "version": "3.5.6-final"
  },
  "orig_nbformat": 2,
  "kernelspec": {
   "name": "Python 3.5.6 32-bit ('trading': conda)",
   "display_name": "Python 3.5.6 32-bit ('trading': conda)",
   "metadata": {
    "interpreter": {
     "hash": "b90e3d0702662d39dfdc789f3e3d6092e6cd61497fd65a4478a4001d303de314"
    }
   }
  }
 },
 "nbformat": 4,
 "nbformat_minor": 2,
 "cells": [
  {
   "cell_type": "code",
   "execution_count": 1,
   "metadata": {
    "tags": []
   },
   "outputs": [],
   "source": [
    "import win32com.client\n",
    "import pandas as pd\n",
    "from tqdm import tqdm\n",
    "import time\n",
    "import json\n",
    "import numpy as np\n",
    "import ast"
   ]
  },
  {
   "cell_type": "code",
   "execution_count": 31,
   "metadata": {},
   "outputs": [],
   "source": [
    "# 상따 목록 불러오기\n",
    "PATH = 'c:\\\\Users\\\\passi\\\\Desktop\\\\programming\\\\stair_to_heaven\\\\'\n",
    "\n",
    "\n",
    "df2 = pd.read_csv(PATH + \"catch_highest/data/extracted_data/20201027_date_company_list.csv\", usecols=['내일날짜', '상한가'])\n",
    "\n",
    "for i in range(df2.shape[0]):\n",
    "    df2['상한가'][i] = ast.literal_eval(df2['상한가'][i])\n",
    "\n",
    "df2 = df2[['내일날짜', '상한가']]\n",
    "df2.columns = ['상한가다음날', '상한가종목']\n",
    "\n",
    "stock_list_name = df2['상한가종목'].tolist()\n",
    "stock_list_date = df2['상한가다음날'].tolist()"
   ]
  },
  {
   "cell_type": "code",
   "execution_count": 32,
   "metadata": {},
   "outputs": [
    {
     "output_type": "execute_result",
     "data": {
      "text/plain": [
       "      상한가다음날                                              상한가종목\n",
       "0   20200605           [제이씨현시스템, 피씨디렉트, 이녹스, 삼성중공우, 신성통상, 네온테크]\n",
       "1   20200608       [금호산업우, 이지홀딩스, 일양약품우, 대웅제약, 삼성중공우, 동화약품, 대웅]\n",
       "2   20200609  [유한양행우, 이지홀딩스, 일양약품우, 금강공업우, 일양약품, 한성기업, 삼성중공우...\n",
       "3   20200610  [팅크웨어, 젬백스링크, 한화우, 일양약품우, KG동부제철우, SK네트웍스우, 제일...\n",
       "4   20200611  [한화우, 일양약품우, KG동부제철우, 아이엘사이언스, 에이비엘바이오, 한화솔루션우...\n",
       "..       ...                                                ...\n",
       "94  20201022  [한화우, 대한과학, 한양증권우, KPX생명과학, 수산중공업, 일정실업, 크라운제과...\n",
       "95  20201023             [한양증권우, 대덕1우, 우리기술투자, 에이티넘인베스트, 사조씨푸드]\n",
       "96  20201026  [크라운해태홀딩스우, 에이엔피, 맥스로텍, 대덕1우, 삼아알미늄, 서연탑메탈, 휴림로봇]\n",
       "97  20201027    [삼성물산우B, 코디엠, 휘닉스소재, 호텔신라우, 제일테크노스, 아남전자, 휴림로봇]\n",
       "98         0         [대성파인텍, 휘닉스소재, 에스와이, 코데즈컴바인, 대덕1우, 바이오스마트]\n",
       "\n",
       "[99 rows x 2 columns]"
      ],
      "text/html": "<div>\n<style scoped>\n    .dataframe tbody tr th:only-of-type {\n        vertical-align: middle;\n    }\n\n    .dataframe tbody tr th {\n        vertical-align: top;\n    }\n\n    .dataframe thead th {\n        text-align: right;\n    }\n</style>\n<table border=\"1\" class=\"dataframe\">\n  <thead>\n    <tr style=\"text-align: right;\">\n      <th></th>\n      <th>상한가다음날</th>\n      <th>상한가종목</th>\n    </tr>\n  </thead>\n  <tbody>\n    <tr>\n      <th>0</th>\n      <td>20200605</td>\n      <td>[제이씨현시스템, 피씨디렉트, 이녹스, 삼성중공우, 신성통상, 네온테크]</td>\n    </tr>\n    <tr>\n      <th>1</th>\n      <td>20200608</td>\n      <td>[금호산업우, 이지홀딩스, 일양약품우, 대웅제약, 삼성중공우, 동화약품, 대웅]</td>\n    </tr>\n    <tr>\n      <th>2</th>\n      <td>20200609</td>\n      <td>[유한양행우, 이지홀딩스, 일양약품우, 금강공업우, 일양약품, 한성기업, 삼성중공우...</td>\n    </tr>\n    <tr>\n      <th>3</th>\n      <td>20200610</td>\n      <td>[팅크웨어, 젬백스링크, 한화우, 일양약품우, KG동부제철우, SK네트웍스우, 제일...</td>\n    </tr>\n    <tr>\n      <th>4</th>\n      <td>20200611</td>\n      <td>[한화우, 일양약품우, KG동부제철우, 아이엘사이언스, 에이비엘바이오, 한화솔루션우...</td>\n    </tr>\n    <tr>\n      <th>...</th>\n      <td>...</td>\n      <td>...</td>\n    </tr>\n    <tr>\n      <th>94</th>\n      <td>20201022</td>\n      <td>[한화우, 대한과학, 한양증권우, KPX생명과학, 수산중공업, 일정실업, 크라운제과...</td>\n    </tr>\n    <tr>\n      <th>95</th>\n      <td>20201023</td>\n      <td>[한양증권우, 대덕1우, 우리기술투자, 에이티넘인베스트, 사조씨푸드]</td>\n    </tr>\n    <tr>\n      <th>96</th>\n      <td>20201026</td>\n      <td>[크라운해태홀딩스우, 에이엔피, 맥스로텍, 대덕1우, 삼아알미늄, 서연탑메탈, 휴림로봇]</td>\n    </tr>\n    <tr>\n      <th>97</th>\n      <td>20201027</td>\n      <td>[삼성물산우B, 코디엠, 휘닉스소재, 호텔신라우, 제일테크노스, 아남전자, 휴림로봇]</td>\n    </tr>\n    <tr>\n      <th>98</th>\n      <td>0</td>\n      <td>[대성파인텍, 휘닉스소재, 에스와이, 코데즈컴바인, 대덕1우, 바이오스마트]</td>\n    </tr>\n  </tbody>\n</table>\n<p>99 rows × 2 columns</p>\n</div>"
     },
     "metadata": {},
     "execution_count": 32
    }
   ],
   "source": [
    "df2"
   ]
  },
  {
   "cell_type": "code",
   "execution_count": 4,
   "metadata": {},
   "outputs": [],
   "source": [
    "g_objCodeMgr = win32com.client.Dispatch('CpUtil.CpCodeMgr')\n",
    "objRq = win32com.client.Dispatch(\"CpSysDib.CssStgFind\")\n",
    "objRq.SetInputValue(0, 'nyHoIn7oTgSILXpSOTqkuQ')  # 전략 id 요청\n",
    "objRq.BlockRequest()\n",
    "\n",
    "cnt = objRq.GetHeaderValue(0)  # 0 - (long) 검색된 결과 종목 수\n",
    "\n",
    "code = []\n",
    "name = []\n",
    "\n",
    "for i in range(cnt):\n",
    "    code.append(objRq.GetDataValue(0, i))\n",
    "    name.append(g_objCodeMgr.CodeToName(code[i]))\n"
   ]
  },
  {
   "cell_type": "code",
   "execution_count": 5,
   "metadata": {},
   "outputs": [],
   "source": [
    "from datetime import datetime\n",
    "today = datetime.today().strftime(\"%Y%m%d\")"
   ]
  },
  {
   "cell_type": "code",
   "execution_count": 6,
   "metadata": {},
   "outputs": [],
   "source": [
    "date_company = pd.DataFrame([[today,code]],columns=['내일날짜','상한가다음날'])"
   ]
  },
  {
   "cell_type": "code",
   "execution_count": 9,
   "metadata": {},
   "outputs": [],
   "source": [
    "def get_entire_code():\n",
    "    with open(PATH + \"catch_highest/data/extracted_data/kospi_list.json\") as kospi_file:\n",
    "        kospi_data = json.load(kospi_file)\n",
    "\n",
    "    with open(PATH + \"catch_highest/data/extracted_data/kosdaq_list.json\") as kosdaq_file:\n",
    "        kosdaq_data = json.load(kosdaq_file)\n",
    "    \n",
    "    kospi_data.update(kosdaq_data)\n",
    "\n",
    "    return list(kospi_data.keys()), list(kospi_data.values())"
   ]
  },
  {
   "cell_type": "code",
   "execution_count": 12,
   "metadata": {},
   "outputs": [
    {
     "output_type": "stream",
     "name": "stderr",
     "text": [
      "100%|██████████| 1/1 [00:00<00:00,  3.58it/s]\n"
     ]
    }
   ],
   "source": [
    "date_company.columns = ['상한가다음날', '상한가종목']\n",
    "\n",
    "stock_list_name = date_company['상한가종목'].tolist()\n",
    "stock_list_date = date_company['상한가다음날'].tolist()\n",
    "\n",
    "\n",
    "#분봉 데이터 뽑기\n",
    "for i in tqdm(range(len(stock_list_date))):\n",
    "    if int(stock_list_date[i]) > 20201001:\n",
    "        # try:\n",
    "        for j in range(len(stock_list_name[i])):\n",
    "            times = []\n",
    "            open_price = []\n",
    "            high_price = []\n",
    "            low_price = []\n",
    "            close_price = []\n",
    "            minute_volume = []\n",
    "            objStockChart = win32com.client.Dispatch(\"CpSysDib.StockChart\")\n",
    "            objStockChart.SetInputValue(0, stock_list_name[i][j])  # 종목 코드 입력\n",
    "            objStockChart.SetInputValue(1, ord('1'))  # Date 설정하여 데이터 받기\n",
    "            objStockChart.SetInputValue(2, stock_list_date[i])  # todDte 까지\n",
    "            objStockChart.SetInputValue(3, stock_list_date[i])  # fromDate 까지\n",
    "            objStockChart.SetInputValue(5, [0, 1, 2, 3, 4, 5, 8])  # 날짜, 시간, 시가,고가,저가,종가,거래량\n",
    "            objStockChart.SetInputValue(6, ord('m'))  # '차트 주가 - 일간 차트 요청\n",
    "            objStockChart.SetInputValue(9, ord('0'))  # 무수정주가 사용\n",
    "            objStockChart.BlockRequest()\n",
    "            length = objStockChart.GetHeaderValue(3)\n",
    "            # print(length)\n",
    "            for k in range(length):\n",
    "                day = objStockChart.GetDataValue(0, k)\n",
    "                time = objStockChart.GetDataValue(1, k)\n",
    "                if time < 1000:  # 0901 출력\n",
    "                    time = '%04d' % objStockChart.GetDataValue(1, k)\n",
    "                open = objStockChart.GetDataValue(2, k)\n",
    "                high = objStockChart.GetDataValue(3, k)\n",
    "                low = objStockChart.GetDataValue(4, k)\n",
    "                close = objStockChart.GetDataValue(5, k)\n",
    "                # volume = objStockChart.GetDataValue(8, k)\n",
    "                times.append(time)\n",
    "                open_price.append(open)\n",
    "                high_price.append(high)\n",
    "                low_price.append(low)\n",
    "                close_price.append(close)\n",
    "\n",
    "            times.reverse()\n",
    "            open_price.reverse()\n",
    "            high_price.reverse()\n",
    "            low_price.reverse()\n",
    "            close_price.reverse()\n",
    "            df3 = pd.DataFrame({'time': times, 'open': open_price, 'high': high_price, 'low': low_price,'close': close_price}, columns = ['time','open','high','low','close'])\n",
    "            df3.to_csv(PATH + \"catch_highest/data/minute_stock_data/\" + str(stock_list_date[i]) + '_'+ g_objCodeMgr.CodeToName(stock_list_name[i][j]) + '.csv',\n",
    "                encoding='utf-8-sig')\n",
    "        # except Exception as e:\n",
    "        #     print(\"Error code: \" + str(code))\n",
    "        #     print(\"Error name: \" + str(e))\n",
    "\n",
    "    else:\n",
    "        continue"
   ]
  },
  {
   "cell_type": "code",
   "execution_count": 63,
   "metadata": {},
   "outputs": [
    {
     "output_type": "execute_result",
     "data": {
      "text/plain": [
       "['A008700', 'A008775', 'A02826K', 'A038010', 'A090710', 'A304840']"
      ]
     },
     "metadata": {},
     "execution_count": 63
    }
   ],
   "source": [
    "stock_list_name[0]"
   ]
  },
  {
   "cell_type": "code",
   "execution_count": 19,
   "metadata": {},
   "outputs": [],
   "source": [
    "#분봉 데이터 파일들을 모두 리스트에 넣기\n",
    "PATH = 'c:\\\\Users\\\\passi\\\\Desktop\\\\programming\\\\stair_to_heaven\\\\'\n",
    "file_list = os.listdir(PATH + \"catch_highest/data/minute_stock_data/\")\n",
    "file_list.sort()\n",
    "if '.DS_Store' in file_list:\n",
    "    file_list = file_list[1:]\n",
    "else:\n",
    "    None"
   ]
  },
  {
   "cell_type": "code",
   "execution_count": 20,
   "metadata": {},
   "outputs": [],
   "source": []
  },
  {
   "cell_type": "code",
   "execution_count": 21,
   "metadata": {},
   "outputs": [
    {
     "output_type": "execute_result",
     "data": {
      "text/plain": [
       "100"
      ]
     },
     "metadata": {},
     "execution_count": 21
    }
   ],
   "source": [
    "file_list.reverse()\n",
    "file_list = file_list[0:num]\n",
    "file_list.sort()\n"
   ]
  },
  {
   "cell_type": "code",
   "execution_count": 23,
   "metadata": {},
   "outputs": [],
   "source": []
  },
  {
   "cell_type": "code",
   "execution_count": 24,
   "metadata": {},
   "outputs": [
    {
     "output_type": "execute_result",
     "data": {
      "text/plain": [
       "['20201005_THE MIDONG.csv',\n",
       " '20201005_디케이디앤아이.csv',\n",
       " '20201005_라닉스.csv',\n",
       " '20201005_새로닉스.csv',\n",
       " '20201005_신테카바이오.csv',\n",
       " '20201005_한류AI센터.csv',\n",
       " '20201006_네오크레마.csv',\n",
       " '20201006_맥스로텍.csv',\n",
       " '20201006_부산주공.csv',\n",
       " '20201006_셀리드.csv',\n",
       " '20201006_오르비텍.csv',\n",
       " '20201006_인베니아.csv',\n",
       " '20201006_인지컨트롤스.csv',\n",
       " '20201006_현대공업.csv',\n",
       " '20201007_TBH글로벌.csv',\n",
       " '20201007_나인테크.csv',\n",
       " '20201007_에스와이.csv',\n",
       " '20201007_이수화학.csv',\n",
       " '20201007_한창산업.csv',\n",
       " '20201008_SV인베스트먼트.csv',\n",
       " '20201008_까뮤이앤씨.csv',\n",
       " '20201008_엠에스씨.csv',\n",
       " '20201008_자이글.csv',\n",
       " '20201008_한국유니온제약.csv',\n",
       " '20201012_골드퍼시픽.csv',\n",
       " '20201012_동일철강.csv',\n",
       " '20201012_모아텍.csv',\n",
       " '20201012_신성이엔지.csv',\n",
       " '20201012_쌍용양회우.csv',\n",
       " '20201012_팬젠.csv',\n",
       " '20201012_한농화성.csv',\n",
       " '20201013_남성.csv',\n",
       " '20201013_쌍용양회우.csv',\n",
       " '20201013_에스에이티.csv',\n",
       " '20201013_엑세스바이오.csv',\n",
       " '20201013_오성첨단소재.csv',\n",
       " '20201014_SDN.csv',\n",
       " '20201014_네온테크.csv',\n",
       " '20201014_대창솔루션.csv',\n",
       " '20201014_모다이노칩.csv',\n",
       " '20201014_모아텍.csv',\n",
       " '20201014_쌍용양회우.csv',\n",
       " '20201014_알에프세미.csv',\n",
       " '20201014_우림기계.csv',\n",
       " '20201014_태영건설우.csv',\n",
       " '20201015_KEC.csv',\n",
       " '20201015_KMH.csv',\n",
       " '20201015_KMH하이텍.csv',\n",
       " '20201015_금강공업우.csv',\n",
       " '20201015_모아텍.csv',\n",
       " '20201015_쌍용양회우.csv',\n",
       " '20201015_코오롱글로벌우.csv',\n",
       " '20201015_한솔홈데코.csv',\n",
       " '20201016_TS인베스트먼트.csv',\n",
       " '20201016_남선알미우.csv',\n",
       " '20201016_모아텍.csv',\n",
       " '20201016_세동.csv',\n",
       " '20201016_쌍용양회우.csv',\n",
       " '20201016_에스코넥.csv',\n",
       " '20201016_유유제약2우B.csv',\n",
       " '20201016_진흥기업우B.csv',\n",
       " '20201016_흥국화재우.csv',\n",
       " '20201019_서한.csv',\n",
       " '20201019_전방.csv',\n",
       " '20201020_KEC.csv',\n",
       " '20201020_KPX생명과학.csv',\n",
       " '20201020_에스앤더블류.csv',\n",
       " '20201020_흥국화재우.csv',\n",
       " '20201021_녹십자홀딩스2우.csv',\n",
       " '20201021_웰크론한텍.csv',\n",
       " '20201021_일정실업.csv',\n",
       " '20201021_파워로직스.csv',\n",
       " '20201021_흥국화재우.csv',\n",
       " '20201022_KPX생명과학.csv',\n",
       " '20201022_SK증권우.csv',\n",
       " '20201022_경인전자.csv',\n",
       " '20201022_대한과학.csv',\n",
       " '20201022_수산중공업.csv',\n",
       " '20201022_일정실업.csv',\n",
       " '20201022_크라운제과우.csv',\n",
       " '20201022_한양증권우.csv',\n",
       " '20201022_한화우.csv',\n",
       " '20201023_대덕1우.csv',\n",
       " '20201023_사조씨푸드.csv',\n",
       " '20201023_에이티넘인베스트.csv',\n",
       " '20201023_우리기술투자.csv',\n",
       " '20201023_한양증권우.csv',\n",
       " '20201026_대덕1우.csv',\n",
       " '20201026_맥스로텍.csv',\n",
       " '20201026_삼아알미늄.csv',\n",
       " '20201026_서연탑메탈.csv',\n",
       " '20201026_에이엔피.csv',\n",
       " '20201026_크라운해태홀딩스우.csv',\n",
       " '20201026_휴림로봇.csv',\n",
       " '20201027_삼성물산우B.csv',\n",
       " '20201027_아남전자.csv',\n",
       " '20201027_제일테크노스.csv',\n",
       " '20201027_피플바이오.csv',\n",
       " '20201027_호텔신라우.csv',\n",
       " '20201027_휴림로봇.csv']"
      ]
     },
     "metadata": {},
     "execution_count": 24
    }
   ],
   "source": [
    "file_list"
   ]
  },
  {
   "cell_type": "code",
   "execution_count": null,
   "metadata": {},
   "outputs": [],
   "source": []
  }
 ]
}