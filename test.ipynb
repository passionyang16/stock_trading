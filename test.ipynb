{
 "metadata": {
  "language_info": {
   "codemirror_mode": {
    "name": "ipython",
    "version": 3
   },
   "file_extension": ".py",
   "mimetype": "text/x-python",
   "name": "python",
   "nbconvert_exporter": "python",
   "pygments_lexer": "ipython3",
   "version": "3.5.6-final"
  },
  "orig_nbformat": 2,
  "kernelspec": {
   "name": "Python 3.5.6 32-bit ('trading': conda)",
   "display_name": "Python 3.5.6 32-bit ('trading': conda)",
   "metadata": {
    "interpreter": {
     "hash": "b90e3d0702662d39dfdc789f3e3d6092e6cd61497fd65a4478a4001d303de314"
    }
   }
  }
 },
 "nbformat": 4,
 "nbformat_minor": 2,
 "cells": [
  {
   "cell_type": "code",
   "execution_count": 128,
   "metadata": {
    "tags": []
   },
   "outputs": [],
   "source": [
    "from bs4 import BeautifulSoup\n",
    "import requests\n",
    "from datetime import datetime, timedelta\n"
   ]
  },
  {
   "cell_type": "code",
   "execution_count": 129,
   "metadata": {
    "tags": []
   },
   "outputs": [],
   "source": [
    "yesterday = datetime.strftime(datetime.now() - timedelta(1), '%Y-%m-%d')\n",
    "url = 'https://puzizig.com/programs/stock_upper_limit/date/' + yesterday\n"
   ]
  },
  {
   "cell_type": "code",
   "execution_count": 130,
   "metadata": {},
   "outputs": [],
   "source": [
    "#URL 접근\n",
    "request = requests.get(url)\n",
    "soup = BeautifulSoup(request.content,'html.parser')\n",
    "selected = soup.select('body > div > div > div.col-md-8.mt-3 > div:nth-child(4)')\n"
   ]
  },
  {
   "cell_type": "code",
   "execution_count": 131,
   "metadata": {},
   "outputs": [],
   "source": [
    "table_html = selected[0].find_all('div',{'class':'col-md-6 col-lg-3'})\n",
    "yesterday_price = [table.text[5:].replace(',','') for table in table_html if table.text.startswith('현재가')]"
   ]
  },
  {
   "cell_type": "code",
   "execution_count": 132,
   "metadata": {},
   "outputs": [],
   "source": [
    "yesterday_code = []\n",
    "yesterday_company = []\n",
    "info_html = selected[0].find_all('div',{'class':'d-flex align-items-center mb-2'})\n",
    "for info in info_html:\n",
    "    yesterday_code.append(info.find('span',{'class':'badge badge-secondary badge-pill mr-2'}).text)\n",
    "    yesterday_company.append(info.find('a').text)"
   ]
  },
  {
   "cell_type": "code",
   "execution_count": 136,
   "metadata": {},
   "outputs": [],
   "source": [
    "for i in reversed(range(len(yesterday_code))):\n",
    "    if len(yesterday_price[i]) <= 3:\n",
    "        yesterday_code.pop(i)"
   ]
  },
  {
   "cell_type": "code",
   "execution_count": 144,
   "metadata": {},
   "outputs": [],
   "source": [
    "def get_yesterday_highest():\n",
    "        #날짜 설정\n",
    "        yesterday = datetime.strftime(datetime.now() - timedelta(1), '%Y-%m-%d')\n",
    "        url = 'https://puzizig.com/programs/stock_upper_limit/date/' + yesterday\n",
    "        #URL 접근\n",
    "        request = requests.get(url)\n",
    "        soup = BeautifulSoup(request.content,'html.parser')\n",
    "        selected = soup.select('body > div > div > div.col-md-8.mt-3 > div:nth-child(4)')\n",
    "        #코드 및 종목 찾기\n",
    "        yesterday_code = []\n",
    "        yesterday_company = []\n",
    "        info_html = selected[0].find_all('div',{'class':'d-flex align-items-center mb-2'})\n",
    "        for info in info_html:\n",
    "            yesterday_code.append(info.find('span',{'class':'badge badge-secondary badge-pill mr-2'}).text)\n",
    "            yesterday_company.append(info.find('a').text)\n",
    "        \n",
    "        #가격 찾아서 동전주는 깔끔하게 제거\n",
    "        table_html = selected[0].find_all('div',{'class':'col-md-6 col-lg-3'})\n",
    "        yesterday_price = [table.text[5:].replace(',','') for table in table_html if table.text.startswith('현재가')]\n",
    "\n",
    "        for i in reversed(range(len(yesterday_code))):\n",
    "            if len(yesterday_price[i]) <= 3:\n",
    "                yesterday_code.pop(i)\n",
    "        \n",
    "        print(\"어제 상한가 종목은: \", yesterday_company)\n",
    "        return yesterday_code"
   ]
  },
  {
   "cell_type": "code",
   "execution_count": 145,
   "metadata": {},
   "outputs": [
    {
     "output_type": "stream",
     "name": "stdout",
     "text": [
      "어제 상한가 종목은:  ['까뮤이앤씨', 'SV인베스트먼트', '엠에스씨', '자이글', '한국유니온제약']\n['013700', '289080', '009780', '234920', '080720']\n"
     ]
    }
   ],
   "source": [
    "codes = get_yesterday_highest()\n",
    "print(codes)"
   ]
  },
  {
   "cell_type": "code",
   "execution_count": 147,
   "metadata": {},
   "outputs": [
    {
     "output_type": "error",
     "ename": "com_error",
     "evalue": "(-2147352567, '예외가 발생했습니다.', (0, None, 'Module:CpDib\\nObj:CpTdUtil\\nFun:AccountNumber\\nType:0\\nDescription:TradeInit을 하지 않았습니다.', None, 0, -2147418113), None)",
     "traceback": [
      "\u001b[1;31m---------------------------------------------------------------------------\u001b[0m",
      "\u001b[1;31mcom_error\u001b[0m                                 Traceback (most recent call last)",
      "\u001b[1;32m<ipython-input-147-8475f273a8d2>\u001b[0m in \u001b[0;36m<module>\u001b[1;34m\u001b[0m\n\u001b[0;32m     13\u001b[0m \u001b[1;33m\u001b[0m\u001b[0m\n\u001b[0;32m     14\u001b[0m \u001b[1;33m\u001b[0m\u001b[0m\n\u001b[1;32m---> 15\u001b[1;33m \u001b[0mg_objCpTrade\u001b[0m\u001b[1;33m.\u001b[0m\u001b[0mAccountNumber\u001b[0m\u001b[1;33m[\u001b[0m\u001b[1;36m0\u001b[0m\u001b[1;33m]\u001b[0m\u001b[1;33m\u001b[0m\u001b[0m\n\u001b[0m",
      "\u001b[1;32m~\\Anaconda3\\envs\\trading\\lib\\site-packages\\win32com\\client\\dynamic.py\u001b[0m in \u001b[0;36m__getattr__\u001b[1;34m(self, attr)\u001b[0m\n\u001b[0;32m    514\u001b[0m                         \u001b[0mdebug_attr_print\u001b[0m\u001b[1;33m(\u001b[0m\u001b[1;34m\"Getting property Id 0x%x from OLE object\"\u001b[0m \u001b[1;33m%\u001b[0m \u001b[0mretEntry\u001b[0m\u001b[1;33m.\u001b[0m\u001b[0mdispid\u001b[0m\u001b[1;33m)\u001b[0m\u001b[1;33m\u001b[0m\u001b[0m\n\u001b[0;32m    515\u001b[0m                         \u001b[1;32mtry\u001b[0m\u001b[1;33m:\u001b[0m\u001b[1;33m\u001b[0m\u001b[0m\n\u001b[1;32m--> 516\u001b[1;33m                                 \u001b[0mret\u001b[0m \u001b[1;33m=\u001b[0m \u001b[0mself\u001b[0m\u001b[1;33m.\u001b[0m\u001b[0m_oleobj_\u001b[0m\u001b[1;33m.\u001b[0m\u001b[0mInvoke\u001b[0m\u001b[1;33m(\u001b[0m\u001b[0mretEntry\u001b[0m\u001b[1;33m.\u001b[0m\u001b[0mdispid\u001b[0m\u001b[1;33m,\u001b[0m\u001b[1;36m0\u001b[0m\u001b[1;33m,\u001b[0m\u001b[0minvoke_type\u001b[0m\u001b[1;33m,\u001b[0m\u001b[1;36m1\u001b[0m\u001b[1;33m)\u001b[0m\u001b[1;33m\u001b[0m\u001b[0m\n\u001b[0m\u001b[0;32m    517\u001b[0m                         \u001b[1;32mexcept\u001b[0m \u001b[0mpythoncom\u001b[0m\u001b[1;33m.\u001b[0m\u001b[0mcom_error\u001b[0m \u001b[1;32mas\u001b[0m \u001b[0mdetails\u001b[0m\u001b[1;33m:\u001b[0m\u001b[1;33m\u001b[0m\u001b[0m\n\u001b[0;32m    518\u001b[0m                                 \u001b[1;32mif\u001b[0m \u001b[0mdetails\u001b[0m\u001b[1;33m.\u001b[0m\u001b[0mhresult\u001b[0m \u001b[1;32min\u001b[0m \u001b[0mERRORS_BAD_CONTEXT\u001b[0m\u001b[1;33m:\u001b[0m\u001b[1;33m\u001b[0m\u001b[0m\n",
      "\u001b[1;31mcom_error\u001b[0m: (-2147352567, '예외가 발생했습니다.', (0, None, 'Module:CpDib\\nObj:CpTdUtil\\nFun:AccountNumber\\nType:0\\nDescription:TradeInit을 하지 않았습니다.', None, 0, -2147418113), None)"
     ]
    }
   ],
   "source": [
    "import win32com.client\n",
    "import ctypes\n",
    "from bs4 import BeautifulSoup\n",
    "import requests\n",
    "from datetime import datetime, timedelta\n",
    "import time\n",
    "from PyQt5.QtWidgets import *\n",
    "\n",
    "\n",
    "g_objCodeMgr = win32com.client.Dispatch('CpUtil.CpCodeMgr')\n",
    "g_objCpStatus = win32com.client.Dispatch('CpUtil.CpCybos')\n",
    "g_objCpTrade = win32com.client.Dispatch('CpTrade.CpTdUtil')\n",
    "\n",
    "\n",
    "g_objCpTrade.AccountNumber[0]"
   ]
  },
  {
   "cell_type": "code",
   "execution_count": null,
   "metadata": {},
   "outputs": [],
   "source": []
  }
 ]
}