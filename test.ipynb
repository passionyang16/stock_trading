{
 "metadata": {
  "language_info": {
   "codemirror_mode": {
    "name": "ipython",
    "version": 3
   },
   "file_extension": ".py",
   "mimetype": "text/x-python",
   "name": "python",
   "nbconvert_exporter": "python",
   "pygments_lexer": "ipython3",
   "version": "3.5.6-final"
  },
  "orig_nbformat": 2,
  "kernelspec": {
   "name": "Python 3.5.6 32-bit ('trading': conda)",
   "display_name": "Python 3.5.6 32-bit ('trading': conda)",
   "metadata": {
    "interpreter": {
     "hash": "b90e3d0702662d39dfdc789f3e3d6092e6cd61497fd65a4478a4001d303de314"
    }
   }
  }
 },
 "nbformat": 4,
 "nbformat_minor": 2,
 "cells": [
  {
   "cell_type": "code",
   "execution_count": 154,
   "metadata": {
    "tags": []
   },
   "outputs": [],
   "source": [
    "import win32com.client\n",
    "import pandas as pd\n",
    "from tqdm import tqdm\n",
    "import time\n",
    "import json\n",
    "import numpy as np\n",
    "import ast"
   ]
  },
  {
   "cell_type": "code",
   "execution_count": 155,
   "metadata": {},
   "outputs": [],
   "source": [
    "PATH = 'c:\\\\Users\\\\passi\\\\Desktop\\\\programming\\\\stair_to_heaven\\\\'\n",
    "df = pd.read_csv(PATH + \"catch_highest/data/extracted_data/kosdaq_150.csv\", usecols = ['date','open','close'])"
   ]
  },
  {
   "cell_type": "code",
   "execution_count": 156,
   "metadata": {},
   "outputs": [],
   "source": [
    "#분봉 데이터 파일들을 모두 리스트에 넣기\n",
    "file_list = os.listdir(PATH + \"catch_highest/data/minute_stock_data/\")\n",
    "file_list.sort()\n",
    "if '.DS_Store' in file_list:\n",
    "    file_list = file_list[1:]\n",
    "else:\n",
    "    None\n",
    "\n",
    "#처음날짜\n",
    "for i in range(len(file_list)):\n",
    "    if file_list[i].startswith('20190513'): #20190513\n",
    "        file_list = file_list[i:]\n",
    "        break\n",
    "#끝날짜\n",
    "for i in reversed(range(len(file_list))):\n",
    "    if file_list[i].startswith('20201030'):\n",
    "        file_list = file_list[:i+1]\n",
    "        break\n"
   ]
  },
  {
   "cell_type": "code",
   "execution_count": 157,
   "metadata": {},
   "outputs": [],
   "source": [
    "# 우선주만 보자\n",
    "new_file_list = []\n",
    "for i in range(len(file_list)):\n",
    "    if file_list[i].endswith('우.csv'):\n",
    "        new_file_list.append(file_list[i])\n",
    "\n",
    "file_list = new_file_list"
   ]
  },
  {
   "cell_type": "code",
   "execution_count": 158,
   "metadata": {
    "tags": []
   },
   "outputs": [],
   "source": [
    "# #하락장일때만 보자\n",
    "# df = pd.read_csv(PATH + \"catch_highest/data/extracted_data/kosdaq_150.csv\", usecols = ['date','open','close'])\n",
    "# array = []\n",
    "# for i in range(df.shape[0]-1):\n",
    "#     if df['open'][i] < df['close'][i+1]:\n",
    "#         array.append(df['date'][i])\n",
    "# array = list(map(str, array))\n",
    "\n",
    "# new_file_list = []\n",
    "# for i in range(len(file_list)):\n",
    "#     if file_list[i][0:8] in array:\n",
    "#         new_file_list.append(file_list[i])\n",
    "\n",
    "# file_list = new_file_list"
   ]
  },
  {
   "cell_type": "code",
   "execution_count": 159,
   "metadata": {
    "tags": []
   },
   "outputs": [
    {
     "output_type": "stream",
     "name": "stderr",
     "text": [
      "100%|██████████| 295/295 [00:16<00:00, 18.41it/s]\n"
     ]
    },
    {
     "output_type": "error",
     "ename": "IndexError",
     "evalue": "invalid index to scalar variable.",
     "traceback": [
      "\u001b[1;31m---------------------------------------------------------------------------\u001b[0m",
      "\u001b[1;31mIndexError\u001b[0m                                Traceback (most recent call last)",
      "\u001b[1;32m<ipython-input-159-f27a54560702>\u001b[0m in \u001b[0;36m<module>\u001b[1;34m\u001b[0m\n\u001b[0;32m     53\u001b[0m \u001b[1;33m\u001b[0m\u001b[0m\n\u001b[0;32m     54\u001b[0m \u001b[1;32mfor\u001b[0m \u001b[0mi\u001b[0m \u001b[1;32min\u001b[0m \u001b[0mrange\u001b[0m\u001b[1;33m(\u001b[0m\u001b[0mdf\u001b[0m\u001b[1;33m.\u001b[0m\u001b[0mshape\u001b[0m\u001b[1;33m[\u001b[0m\u001b[1;36m0\u001b[0m\u001b[1;33m]\u001b[0m\u001b[1;33m)\u001b[0m\u001b[1;33m:\u001b[0m\u001b[1;33m\u001b[0m\u001b[0m\n\u001b[1;32m---> 55\u001b[1;33m     \u001b[0mdf\u001b[0m\u001b[1;33m[\u001b[0m\u001b[1;34m'date'\u001b[0m\u001b[1;33m]\u001b[0m\u001b[1;33m[\u001b[0m\u001b[0mi\u001b[0m\u001b[1;33m]\u001b[0m \u001b[1;33m=\u001b[0m \u001b[0mdf\u001b[0m\u001b[1;33m[\u001b[0m\u001b[1;34m'time'\u001b[0m\u001b[1;33m]\u001b[0m\u001b[1;33m[\u001b[0m\u001b[0mi\u001b[0m\u001b[1;33m]\u001b[0m\u001b[1;33m[\u001b[0m\u001b[1;36m0\u001b[0m\u001b[1;33m:\u001b[0m\u001b[1;36m8\u001b[0m\u001b[1;33m]\u001b[0m\u001b[1;33m\u001b[0m\u001b[0m\n\u001b[0m\u001b[0;32m     56\u001b[0m     \u001b[0mdf\u001b[0m\u001b[1;33m[\u001b[0m\u001b[1;34m'company'\u001b[0m\u001b[1;33m]\u001b[0m\u001b[1;33m[\u001b[0m\u001b[0mi\u001b[0m\u001b[1;33m]\u001b[0m \u001b[1;33m=\u001b[0m \u001b[0mdf\u001b[0m\u001b[1;33m[\u001b[0m\u001b[1;34m'time'\u001b[0m\u001b[1;33m]\u001b[0m\u001b[1;33m[\u001b[0m\u001b[0mi\u001b[0m\u001b[1;33m]\u001b[0m\u001b[1;33m[\u001b[0m\u001b[1;36m9\u001b[0m\u001b[1;33m:\u001b[0m\u001b[1;33m]\u001b[0m\u001b[1;33m\u001b[0m\u001b[0m\n\u001b[0;32m     57\u001b[0m \u001b[1;33m\u001b[0m\u001b[0m\n",
      "\u001b[1;31mIndexError\u001b[0m: invalid index to scalar variable."
     ]
    }
   ],
   "source": [
    "start_time = 901\n",
    "df = pd.read_csv(PATH + \"catch_highest/data/extracted_data/only_time.csv\", usecols = ['time'])\n",
    "for i in range(df.shape[0]):\n",
    "    if df['time'][i] == start_time:\n",
    "        df = pd.DataFrame(df['time'][i:]).reset_index(drop=True)\n",
    "        break\n",
    "\n",
    "for file in tqdm(file_list):\n",
    "    file = file[0:-4]\n",
    "    test = pd.read_csv(PATH + \"catch_highest/data/minute_stock_data/%s.csv\" % file, usecols=['time','open'])\n",
    "    test.columns = ['time',file]\n",
    "    test[file] = test[file].astype('int')\n",
    "    # 단일가 거래 거르고\n",
    "    if test.shape[0] < 50:\n",
    "        continue\n",
    "    # 동전주 거르고\n",
    "    if len(str(test[file][0])) == 3:\n",
    "        continue\n",
    "        \n",
    "    df = pd.merge(df,test, on='time', how = 'left')\n",
    "    # 중간중간 vi 걸린 것들은 다음값으로 채워주고\n",
    "    for i in range(df.shape[0]):\n",
    "        if np.isnan(df[file][i]):\n",
    "            index = i \n",
    "            stopping = True\n",
    "            try:\n",
    "                while stopping:\n",
    "                    if np.isnan(df[file][index+1]):\n",
    "                        index += 1\n",
    "                    else:\n",
    "                        valid = df[file][index+1]\n",
    "                        stopping = False\n",
    "                df[file][i] = valid\n",
    "            except:\n",
    "                continue\n",
    "    for j in range(1,df.shape[0]):\n",
    "        value = round((df[file][j] - df[file][0]) / df[file][0],4) - 0.0025\n",
    "        # if value <= -0.05:\n",
    "        #     value = -0.05\n",
    "        #     df[file][j:] = value\n",
    "        # else:\n",
    "        df[file][j] = value\n",
    "\n",
    "#해당 날짜에 값이 없는 경우에는 모두 0으로 대체\n",
    "df = df.fillna(0)\n",
    "\n",
    "#날짜와 기업 자르고 다시 재정렬\n",
    "df['date'] = [str() for x in range(len(df.index))]\n",
    "df['company'] = [str() for x in range(len(df.index))]\n",
    "\n",
    "df.to_csv(PATH + \"catch_highest/data/final_result/test_3.csv\")\n",
    "\n",
    "for i in range(df.shape[0]):\n",
    "    df['date'][i] = df['time'][i][0:8]\n",
    "    df['company'][i] = df['time'][i][9:]\n",
    "\n",
    "cols = df.columns.tolist()\n",
    "cols = [cols[-2]] + cols[1:-2]\n",
    "df = df.reindex(columns=cols)\n",
    "\n",
    "\n",
    "#날짜별 기업들의 수익률 평균내기\n",
    "df = df.groupby('date').mean().reset_index()\n",
    "df.to_csv(PATH + \"catch_highest/data/final_result/test_1.csv\")\n",
    "\n",
    "\n",
    "# date와 나머지 열을 쪼개서 각각 temp, temp2에 저장\n",
    "temp = df.iloc[:,0]\n",
    "temp2 = df.iloc[:,1:]\n",
    "\n",
    "#숫자만 들어가 있는 temp2에서 복리 계산을 진행\n",
    "for j in tqdm(temp2.columns):\n",
    "    temp2[j][0] = 100*(1+temp2[j][0])\n",
    "    for i in range(1, temp2.shape[0]):\n",
    "        temp2[j][i] = temp2[j][i-1] * (1+temp2[j][i])\n",
    "\n",
    "#이제 다시 쪼개진 데이터프레임들 결합\n",
    "df = pd.concat([temp,temp2],axis=1)\n",
    "df.to_csv(PATH + \"catch_highest/data/final_result/test_2.csv\")\n",
    "\n",
    "#수익이 가장 극대화되는 시간대와 수익률\n",
    "df = pd.DataFrame(df.iloc[-1])\n",
    "df = df.T\n",
    "target_time = int(df.iloc[:,1:].max(axis=0).idxmax())\n",
    "profit = round((df.iloc[:,1:].max(axis=0).max()/100),2)\n",
    "print('가장 수익률이 극대화되는 시간은 ' + str(target_time) + '이며, 수익률은 대략 ' + str(profit) + '배 정도 됩니다.')"
   ]
  },
  {
   "cell_type": "code",
   "execution_count": null,
   "metadata": {},
   "outputs": [],
   "source": []
  }
 ]
}